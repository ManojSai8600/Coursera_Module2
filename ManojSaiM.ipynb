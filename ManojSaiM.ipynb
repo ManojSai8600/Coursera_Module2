{
 "cells": [
  {
   "cell_type": "markdown",
   "id": "7278ad4c",
   "metadata": {},
   "source": [
    "# Jupyterlite Notebook for Data Science Project"
   ]
  },
  {
   "cell_type": "markdown",
   "id": "5ea4993d",
   "metadata": {},
   "source": [
    "## Introduction\n",
    "\n",
    "Welcome to my Jupyterlite Notebook for the final project of the Data Science course. In this notebook, I will demonstrate my understanding of various data science concepts and tools using Jupyterlite on Skills Network labs. Let's dive in!\n"
   ]
  },
  {
   "cell_type": "markdown",
   "id": "eb87f156",
   "metadata": {},
   "source": [
    "### Data Science Languages\n",
    "1. Python\n",
    "2. R\n",
    "3. SQL"
   ]
  },
  {
   "cell_type": "markdown",
   "id": "40504895",
   "metadata": {},
   "source": [
    "### Data Science Libraries\n",
    "1. NumPy\n",
    "2. Pandas\n",
    "3. Matplotlib\n",
    "4. Seaborn\n",
    "5. Scikit-learn\n",
    "6. TensorFlow\n",
    "7. Keras\n",
    "8. PyTorch\n",
    "9. NLTK (Natural Language Toolkit)\n",
    "10. SciPy"
   ]
  },
  {
   "cell_type": "markdown",
   "id": "2bef0431",
   "metadata": {},
   "source": [
    "### Data Science Tools\n",
    "\n",
    "| Tool          | Description                                           |\n",
    "|---------------|-------------------------------------------------------|\n",
    "| Jupyter Notebooks  | Interactive computing environment for data science |\n",
    "| RStudio       | Integrated development environment for R              |\n",
    "| Apache Hadoop | Framework for distributed storage and processing of big data |\n",
    "| Spark         | Unified analytics engine for big data processing     |\n",
    "| Tableau       | Data visualization tool                                |\n",
    "| GitHub        | Version control platform                               |\n",
    "| Docker        | Platform for developing, shipping, and running applications |\n",
    "| AWS           | Cloud computing services                               |"
   ]
  },
  {
   "cell_type": "markdown",
   "id": "7d51bafb",
   "metadata": {},
   "source": [
    "### Arithmetic Expression Examples\n",
    "\n",
    "Let's explore some basic arithmetic operations:\n",
    "\n",
    "- Addition: 2 + 3 = 5\n",
    "- Subtraction: 7 - 4 = 3\n",
    "- Multiplication: 5 * 6 = 30\n",
    "- Division: 10 / 2 = 5"
   ]
  },
  {
   "cell_type": "code",
   "execution_count": 3,
   "id": "0e6bb92a",
   "metadata": {},
   "outputs": [
    {
     "data": {
      "text/plain": [
       "(15, 8)"
      ]
     },
     "execution_count": 3,
     "metadata": {},
     "output_type": "execute_result"
    }
   ],
   "source": [
    "# Multiply and Add Numbers\n",
    "a = 5\n",
    "b = 3\n",
    "result_multiply = a * b\n",
    "result_add = a + b\n",
    "result_multiply, result_add"
   ]
  },
  {
   "cell_type": "code",
   "execution_count": 4,
   "id": "a1225efc",
   "metadata": {},
   "outputs": [
    {
     "data": {
      "text/plain": [
       "2.0"
      ]
     },
     "execution_count": 4,
     "metadata": {},
     "output_type": "execute_result"
    }
   ],
   "source": [
    "# Convert Minutes to Hours\n",
    "minutes = 120\n",
    "hours = minutes / 60\n",
    "hours"
   ]
  },
  {
   "cell_type": "markdown",
   "id": "20a7cb6f",
   "metadata": {},
   "source": [
    "### Objectives\n",
    "1. Demonstrate proficiency in using Jupyterlite Notebook.\n",
    "2. Showcase understanding of data science languages, libraries, and tools.\n",
    "3. Implement basic arithmetic operations and conversions."
   ]
  },
  {
   "cell_type": "markdown",
   "id": "62c5b351",
   "metadata": {},
   "source": [
    "### Author: John Doe"
   ]
  },
  {
   "cell_type": "code",
   "execution_count": null,
   "id": "38a84302",
   "metadata": {},
   "outputs": [],
   "source": []
  },
  {
   "cell_type": "code",
   "execution_count": null,
   "id": "3d820d26",
   "metadata": {},
   "outputs": [],
   "source": []
  }
 ],
 "metadata": {
  "kernelspec": {
   "display_name": "Python 3 (ipykernel)",
   "language": "python",
   "name": "python3"
  },
  "language_info": {
   "codemirror_mode": {
    "name": "ipython",
    "version": 3
   },
   "file_extension": ".py",
   "mimetype": "text/x-python",
   "name": "python",
   "nbconvert_exporter": "python",
   "pygments_lexer": "ipython3",
   "version": "3.11.4"
  }
 },
 "nbformat": 4,
 "nbformat_minor": 5
}
